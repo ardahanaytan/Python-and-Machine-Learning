{
 "cells": [
  {
   "cell_type": "code",
   "execution_count": 5,
   "id": "50faaedb-c519-446e-acd4-fc11610d75fc",
   "metadata": {
    "tags": []
   },
   "outputs": [
    {
     "name": "stdout",
     "output_type": "stream",
     "text": [
      "Atis Sayisi: 2 ---- Yazi Olasiligi: 50.00\n",
      "Atis Sayisi: 4 ---- Yazi Olasiligi: 0.00\n",
      "Atis Sayisi: 8 ---- Yazi Olasiligi: 62.50\n",
      "Atis Sayisi: 16 ---- Yazi Olasiligi: 43.75\n",
      "Atis Sayisi: 32 ---- Yazi Olasiligi: 46.88\n",
      "Atis Sayisi: 64 ---- Yazi Olasiligi: 56.25\n",
      "Atis Sayisi: 128 ---- Yazi Olasiligi: 50.78\n",
      "Atis Sayisi: 256 ---- Yazi Olasiligi: 52.73\n",
      "Atis Sayisi: 512 ---- Yazi Olasiligi: 52.93\n",
      "Atis Sayisi: 1024 ---- Yazi Olasiligi: 50.20\n",
      "Atis Sayisi: 2048 ---- Yazi Olasiligi: 48.58\n",
      "Atis Sayisi: 4096 ---- Yazi Olasiligi: 49.49\n",
      "Atis Sayisi: 8192 ---- Yazi Olasiligi: 49.58\n",
      "Atis Sayisi: 16384 ---- Yazi Olasiligi: 49.96\n",
      "Atis Sayisi: 32768 ---- Yazi Olasiligi: 50.00\n",
      "Atis Sayisi: 65536 ---- Yazi Olasiligi: 49.68\n",
      "Atis Sayisi: 131072 ---- Yazi Olasiligi: 49.97\n",
      "Atis Sayisi: 262144 ---- Yazi Olasiligi: 50.13\n",
      "Atis Sayisi: 524288 ---- Yazi Olasiligi: 50.01\n",
      "Atis Sayisi: 1048576 ---- Yazi Olasiligi: 50.09\n"
     ]
    }
   ],
   "source": [
    "import numpy as np\n",
    "rng = np.random.RandomState(123)\n",
    "for i in np.arange(1,21):\n",
    "    deney_sayisi = 2**i\n",
    "    yazi_turalar = rng.randint(0,2,size=deney_sayisi)\n",
    "    yazi_olasiliklari = np.mean(yazi_turalar)\n",
    "    print('Atis Sayisi:',deney_sayisi,'----','Yazi Olasiligi: %.2f' % (yazi_olasiliklari * 100))"
   ]
  },
  {
   "cell_type": "code",
   "execution_count": null,
   "id": "075be0fc-2cc8-490e-a9e0-d2bf9f525bb1",
   "metadata": {},
   "outputs": [],
   "source": []
  }
 ],
 "metadata": {
  "kernelspec": {
   "display_name": "Python 3 (ipykernel)",
   "language": "python",
   "name": "python3"
  },
  "language_info": {
   "codemirror_mode": {
    "name": "ipython",
    "version": 3
   },
   "file_extension": ".py",
   "mimetype": "text/x-python",
   "name": "python",
   "nbconvert_exporter": "python",
   "pygments_lexer": "ipython3",
   "version": "3.11.4"
  }
 },
 "nbformat": 4,
 "nbformat_minor": 5
}
