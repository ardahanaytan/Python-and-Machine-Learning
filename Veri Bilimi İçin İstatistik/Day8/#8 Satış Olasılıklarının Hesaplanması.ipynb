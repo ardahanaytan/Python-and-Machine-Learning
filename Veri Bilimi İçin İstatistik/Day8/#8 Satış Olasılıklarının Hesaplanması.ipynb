{
 "cells": [
  {
   "cell_type": "code",
   "execution_count": 2,
   "id": "a3fc43d7-3f93-498a-b61a-cca2af9035c7",
   "metadata": {
    "tags": []
   },
   "outputs": [],
   "source": [
    "from scipy.stats import norm"
   ]
  },
  {
   "cell_type": "code",
   "execution_count": 9,
   "id": "898da3f5-e33e-43f8-b116-2aa22c906eb3",
   "metadata": {
    "tags": []
   },
   "outputs": [
    {
     "data": {
      "text/plain": [
       "0.02275013194817921"
      ]
     },
     "execution_count": 9,
     "metadata": {},
     "output_type": "execute_result"
    }
   ],
   "source": [
    "1 - norm.cdf(90, 80, 5) #90dan fazla"
   ]
  },
  {
   "cell_type": "code",
   "execution_count": 10,
   "id": "a7a1ff5b-3ce5-4767-9288-3718aa1feece",
   "metadata": {
    "tags": []
   },
   "outputs": [
    {
     "data": {
      "text/plain": [
       "0.9772498680518208"
      ]
     },
     "execution_count": 10,
     "metadata": {},
     "output_type": "execute_result"
    }
   ],
   "source": [
    "1 - norm.cdf(70, 80, 5) #70ten fazla"
   ]
  },
  {
   "cell_type": "code",
   "execution_count": 11,
   "id": "8521f86d-29f1-4a1c-a44d-cbb810620257",
   "metadata": {
    "tags": []
   },
   "outputs": [
    {
     "data": {
      "text/plain": [
       "0.08075665923377107"
      ]
     },
     "execution_count": 11,
     "metadata": {},
     "output_type": "execute_result"
    }
   ],
   "source": [
    "norm.cdf(73, 80, 5) #73ten az"
   ]
  },
  {
   "cell_type": "code",
   "execution_count": 12,
   "id": "7786a285-8fe3-4933-986c-3008d6759d9d",
   "metadata": {
    "tags": []
   },
   "outputs": [
    {
     "data": {
      "text/plain": [
       "0.13590512198327787"
      ]
     },
     "execution_count": 12,
     "metadata": {},
     "output_type": "execute_result"
    }
   ],
   "source": [
    "norm.cdf(90, 80, 5) - norm.cdf(85, 80, 5)  #85-90 arasi"
   ]
  },
  {
   "cell_type": "code",
   "execution_count": null,
   "id": "97ce96dd-495e-4776-b12e-421fbc3e41b9",
   "metadata": {},
   "outputs": [],
   "source": []
  }
 ],
 "metadata": {
  "kernelspec": {
   "display_name": "Python 3 (ipykernel)",
   "language": "python",
   "name": "python3"
  },
  "language_info": {
   "codemirror_mode": {
    "name": "ipython",
    "version": 3
   },
   "file_extension": ".py",
   "mimetype": "text/x-python",
   "name": "python",
   "nbconvert_exporter": "python",
   "pygments_lexer": "ipython3",
   "version": "3.11.4"
  }
 },
 "nbformat": 4,
 "nbformat_minor": 5
}
