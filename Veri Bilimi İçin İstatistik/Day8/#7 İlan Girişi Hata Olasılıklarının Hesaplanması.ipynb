{
 "cells": [
  {
   "cell_type": "code",
   "execution_count": 1,
   "id": "120b958e-0d0a-414f-b394-a79aea921878",
   "metadata": {
    "tags": []
   },
   "outputs": [],
   "source": [
    "from scipy.stats import poisson"
   ]
  },
  {
   "cell_type": "code",
   "execution_count": 3,
   "id": "f621c7ba-510d-472a-9204-accc1e332cf3",
   "metadata": {
    "tags": []
   },
   "outputs": [],
   "source": [
    "lambda_ = 0.1"
   ]
  },
  {
   "cell_type": "code",
   "execution_count": 4,
   "id": "1d615f78-ba75-4b14-822c-f867cefb31cb",
   "metadata": {
    "tags": []
   },
   "outputs": [
    {
     "name": "stdout",
     "output_type": "stream",
     "text": [
      "0.9048374180359595\n"
     ]
    }
   ],
   "source": [
    "rv = poisson(mu = lambda_)\n",
    "print(rv.pmf(k=0))"
   ]
  },
  {
   "cell_type": "code",
   "execution_count": 7,
   "id": "584cdb33-5bbf-440f-872e-4c0c5abd95c2",
   "metadata": {
    "tags": []
   },
   "outputs": [
    {
     "name": "stdout",
     "output_type": "stream",
     "text": [
      "0.00015080623633932676\n"
     ]
    }
   ],
   "source": [
    "print(rv.pmf(k=3))"
   ]
  },
  {
   "cell_type": "code",
   "execution_count": 8,
   "id": "e72959e6-8a20-4f1d-a4cd-1fa86ae1e8d4",
   "metadata": {
    "tags": []
   },
   "outputs": [
    {
     "name": "stdout",
     "output_type": "stream",
     "text": [
      "7.54031181696634e-08\n"
     ]
    }
   ],
   "source": [
    "print(rv.pmf(k=5))"
   ]
  },
  {
   "cell_type": "code",
   "execution_count": null,
   "id": "373882fe-dedb-4a04-bee6-5232d11b7a98",
   "metadata": {},
   "outputs": [],
   "source": []
  }
 ],
 "metadata": {
  "kernelspec": {
   "display_name": "Python 3 (ipykernel)",
   "language": "python",
   "name": "python3"
  },
  "language_info": {
   "codemirror_mode": {
    "name": "ipython",
    "version": 3
   },
   "file_extension": ".py",
   "mimetype": "text/x-python",
   "name": "python",
   "nbconvert_exporter": "python",
   "pygments_lexer": "ipython3",
   "version": "3.11.4"
  }
 },
 "nbformat": 4,
 "nbformat_minor": 5
}
