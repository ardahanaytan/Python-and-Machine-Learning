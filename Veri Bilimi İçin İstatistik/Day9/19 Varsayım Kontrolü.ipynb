{
 "cells": [
  {
   "cell_type": "code",
   "execution_count": 2,
   "id": "5a2a0008-2c25-494d-9b78-8acef05436e7",
   "metadata": {
    "tags": []
   },
   "outputs": [
    {
     "name": "stdout",
     "output_type": "stream",
     "text": [
      "Test Istatistigi = 0.8978, p-degeri = 0.0000\n",
      "Test Istatistigi = 0.9136, p-degeri = 0.0000\n"
     ]
    }
   ],
   "source": [
    "import seaborn as sns\n",
    "tips = sns.load_dataset('tips')\n",
    "df = tips.copy()\n",
    "\n",
    "df['total_bill'] = df['total_bill'] - df['tip']\n",
    "\n",
    "from scipy.stats import shapiro\n",
    "test_istatistigi, pvalue = shapiro(df['tip'])\n",
    "print('Test Istatistigi = %.4f, p-degeri = %.4f' % (test_istatistigi, pvalue))\n",
    "\n",
    "test_istatistigi, pvalue = shapiro(df['total_bill'])\n",
    "print('Test Istatistigi = %.4f, p-degeri = %.4f' % (test_istatistigi, pvalue))"
   ]
  },
  {
   "cell_type": "code",
   "execution_count": null,
   "id": "b5dc196c-a866-4d7c-8a2e-de1aeac890ec",
   "metadata": {},
   "outputs": [],
   "source": []
  }
 ],
 "metadata": {
  "kernelspec": {
   "display_name": "Python 3 (ipykernel)",
   "language": "python",
   "name": "python3"
  },
  "language_info": {
   "codemirror_mode": {
    "name": "ipython",
    "version": 3
   },
   "file_extension": ".py",
   "mimetype": "text/x-python",
   "name": "python",
   "nbconvert_exporter": "python",
   "pygments_lexer": "ipython3",
   "version": "3.11.4"
  }
 },
 "nbformat": 4,
 "nbformat_minor": 5
}
