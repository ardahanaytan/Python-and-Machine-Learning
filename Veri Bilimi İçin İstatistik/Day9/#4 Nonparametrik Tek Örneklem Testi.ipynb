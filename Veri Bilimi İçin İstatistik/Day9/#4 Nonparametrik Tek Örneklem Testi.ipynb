{
 "cells": [
  {
   "cell_type": "code",
   "execution_count": 2,
   "id": "782d1766-a6fa-4da1-9e34-7d08e2030fdc",
   "metadata": {
    "tags": []
   },
   "outputs": [],
   "source": [
    "import numpy as np\n",
    "\n",
    "olcumler = np.array([17,160,234,149,145,107,197,75,201,225,211,119,\n",
    "                    157,145,127,244,163,114,145,65,112,185,202,146,\n",
    "                    203,224,203,114,188,156,187,154,177,95,165,50,110,\n",
    "                    216,138,151,166,135,155,84,251,173,131,207,121,120])\n",
    "import pandas as pd\n",
    "import scipy.stats as stats\n",
    "stats.describe(olcumler)\n",
    "\n",
    "import pylab\n",
    "\n",
    "from scipy.stats import shapiro"
   ]
  },
  {
   "cell_type": "code",
   "execution_count": 3,
   "id": "627f618f-6cec-4394-86c0-5eceae417bbb",
   "metadata": {
    "tags": []
   },
   "outputs": [],
   "source": [
    "from statsmodels.stats.descriptivestats import sign_test"
   ]
  },
  {
   "cell_type": "code",
   "execution_count": 4,
   "id": "191e2db6-c243-4c99-a49e-be6cb93aa284",
   "metadata": {
    "tags": []
   },
   "outputs": [
    {
     "data": {
      "text/plain": [
       "(-7.0, 0.06490864707227217)"
      ]
     },
     "execution_count": 4,
     "metadata": {},
     "output_type": "execute_result"
    }
   ],
   "source": [
    "sign_test(olcumler, 170)"
   ]
  },
  {
   "cell_type": "code",
   "execution_count": null,
   "id": "6b213c5d-6638-4bbb-84e4-9dadb6d9833c",
   "metadata": {},
   "outputs": [],
   "source": []
  }
 ],
 "metadata": {
  "kernelspec": {
   "display_name": "Python 3 (ipykernel)",
   "language": "python",
   "name": "python3"
  },
  "language_info": {
   "codemirror_mode": {
    "name": "ipython",
    "version": 3
   },
   "file_extension": ".py",
   "mimetype": "text/x-python",
   "name": "python",
   "nbconvert_exporter": "python",
   "pygments_lexer": "ipython3",
   "version": "3.11.4"
  }
 },
 "nbformat": 4,
 "nbformat_minor": 5
}
