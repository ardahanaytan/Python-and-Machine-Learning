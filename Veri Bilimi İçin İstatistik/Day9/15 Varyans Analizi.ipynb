{
 "cells": [
  {
   "cell_type": "code",
   "execution_count": 8,
   "id": "73a4b524-3909-45d4-a3bf-8d7c71fb177b",
   "metadata": {
    "tags": []
   },
   "outputs": [
    {
     "data": {
      "text/html": [
       "<div>\n",
       "<style scoped>\n",
       "    .dataframe tbody tr th:only-of-type {\n",
       "        vertical-align: middle;\n",
       "    }\n",
       "\n",
       "    .dataframe tbody tr th {\n",
       "        vertical-align: top;\n",
       "    }\n",
       "\n",
       "    .dataframe thead th {\n",
       "        text-align: right;\n",
       "    }\n",
       "</style>\n",
       "<table border=\"1\" class=\"dataframe\">\n",
       "  <thead>\n",
       "    <tr style=\"text-align: right;\">\n",
       "      <th></th>\n",
       "      <th>GRUP_A</th>\n",
       "      <th>GRUP_B</th>\n",
       "      <th>GRUP_C</th>\n",
       "    </tr>\n",
       "  </thead>\n",
       "  <tbody>\n",
       "    <tr>\n",
       "      <th>0</th>\n",
       "      <td>28</td>\n",
       "      <td>31</td>\n",
       "      <td>40</td>\n",
       "    </tr>\n",
       "    <tr>\n",
       "      <th>1</th>\n",
       "      <td>33</td>\n",
       "      <td>32</td>\n",
       "      <td>33</td>\n",
       "    </tr>\n",
       "    <tr>\n",
       "      <th>2</th>\n",
       "      <td>30</td>\n",
       "      <td>30</td>\n",
       "      <td>38</td>\n",
       "    </tr>\n",
       "    <tr>\n",
       "      <th>3</th>\n",
       "      <td>29</td>\n",
       "      <td>30</td>\n",
       "      <td>41</td>\n",
       "    </tr>\n",
       "    <tr>\n",
       "      <th>4</th>\n",
       "      <td>28</td>\n",
       "      <td>33</td>\n",
       "      <td>42</td>\n",
       "    </tr>\n",
       "  </tbody>\n",
       "</table>\n",
       "</div>"
      ],
      "text/plain": [
       "   GRUP_A  GRUP_B  GRUP_C\n",
       "0      28      31      40\n",
       "1      33      32      33\n",
       "2      30      30      38\n",
       "3      29      30      41\n",
       "4      28      33      42"
      ]
     },
     "execution_count": 8,
     "metadata": {},
     "output_type": "execute_result"
    }
   ],
   "source": [
    "import pandas as pd\n",
    "from scipy.stats import shapiro\n",
    "import scipy.stats as stats\n",
    "\n",
    "A = pd.DataFrame([28,33,30,29,28,29,27,31,30,32,28,33,25,29,27,31,31,30,31,34,30,32,31,31])\n",
    "B = pd.DataFrame([31,32,30,30,33,32,34,27,36,30,31,30,38,29,30,34,34,31,35,35,33,30,28,31])\n",
    "C = pd.DataFrame([40,33,38,41,42,43,38,35,39,39,36,34,35,40,38,36,39,36,33,35,38,35,40,31])\n",
    "\n",
    "dfs = [A,B,C]\n",
    "\n",
    "ABC = pd.concat(dfs, axis=1)\n",
    "ABC.columns = ['GRUP_A','GRUP_B','GRUP_C']\n",
    "ABC.head()"
   ]
  },
  {
   "cell_type": "code",
   "execution_count": 3,
   "id": "05a6d903-1633-4e89-8e1b-8c3506c2930f",
   "metadata": {
    "tags": []
   },
   "outputs": [
    {
     "data": {
      "text/plain": [
       "ShapiroResult(statistic=0.9730831384658813, pvalue=0.7430323362350464)"
      ]
     },
     "execution_count": 3,
     "metadata": {},
     "output_type": "execute_result"
    }
   ],
   "source": [
    "shapiro(ABC['GRUP_A'])"
   ]
  },
  {
   "cell_type": "code",
   "execution_count": 6,
   "id": "8af8992b-dfdb-429c-8725-fda3dba157c4",
   "metadata": {
    "tags": []
   },
   "outputs": [
    {
     "data": {
      "text/plain": [
       "ShapiroResult(statistic=0.9634867906570435, pvalue=0.512363612651825)"
      ]
     },
     "execution_count": 6,
     "metadata": {},
     "output_type": "execute_result"
    }
   ],
   "source": [
    "shapiro(ABC['GRUP_B'])"
   ]
  },
  {
   "cell_type": "code",
   "execution_count": 7,
   "id": "add4fcef-91fd-4491-a2be-7262c95f4976",
   "metadata": {
    "tags": []
   },
   "outputs": [
    {
     "data": {
      "text/plain": [
       "ShapiroResult(statistic=0.9761447906494141, pvalue=0.8156539797782898)"
      ]
     },
     "execution_count": 7,
     "metadata": {},
     "output_type": "execute_result"
    }
   ],
   "source": [
    "shapiro(ABC['GRUP_C'])"
   ]
  },
  {
   "cell_type": "code",
   "execution_count": 9,
   "id": "62935bb8-64e9-4acd-a045-e6d60b3477e2",
   "metadata": {
    "tags": []
   },
   "outputs": [
    {
     "data": {
      "text/plain": [
       "LeveneResult(statistic=1.5039232781168264, pvalue=0.22945088048268059)"
      ]
     },
     "execution_count": 9,
     "metadata": {},
     "output_type": "execute_result"
    }
   ],
   "source": [
    "stats.levene(ABC['GRUP_A'], ABC['GRUP_B'], ABC['GRUP_C'])"
   ]
  },
  {
   "cell_type": "code",
   "execution_count": null,
   "id": "92780235-8142-4154-96f0-506c7526762a",
   "metadata": {},
   "outputs": [],
   "source": []
  }
 ],
 "metadata": {
  "kernelspec": {
   "display_name": "Python 3 (ipykernel)",
   "language": "python",
   "name": "python3"
  },
  "language_info": {
   "codemirror_mode": {
    "name": "ipython",
    "version": 3
   },
   "file_extension": ".py",
   "mimetype": "text/x-python",
   "name": "python",
   "nbconvert_exporter": "python",
   "pygments_lexer": "ipython3",
   "version": "3.11.4"
  }
 },
 "nbformat": 4,
 "nbformat_minor": 5
}
