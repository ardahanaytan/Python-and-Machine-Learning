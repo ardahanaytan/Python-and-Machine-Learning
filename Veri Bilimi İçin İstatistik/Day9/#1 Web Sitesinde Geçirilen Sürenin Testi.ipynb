{
 "cells": [
  {
   "cell_type": "code",
   "execution_count": 1,
   "id": "098e7092-e5a3-4c13-9185-b32572f3d9e7",
   "metadata": {
    "tags": []
   },
   "outputs": [],
   "source": [
    "import numpy as np\n",
    "\n",
    "olcumler = np.array([17,160,234,149,145,107,197,75,201,225,211,119,\n",
    "                    157,145,127,244,163,114,145,65,112,185,202,146,\n",
    "                    203,224,203,114,188,156,187,154,177,95,165,50,110,\n",
    "                    216,138,151,166,135,155,84,251,173,131,207,121,120])"
   ]
  },
  {
   "cell_type": "code",
   "execution_count": 2,
   "id": "3a0cfa4e-7264-4f06-8750-1dc5e40a4ea5",
   "metadata": {
    "tags": []
   },
   "outputs": [
    {
     "data": {
      "text/plain": [
       "array([ 17, 160, 234, 149, 145, 107, 197,  75, 201, 225])"
      ]
     },
     "execution_count": 2,
     "metadata": {},
     "output_type": "execute_result"
    }
   ],
   "source": [
    "olcumler[0:10]"
   ]
  },
  {
   "cell_type": "code",
   "execution_count": 3,
   "id": "485a9b86-bb5f-49e7-8fcc-569d38f3aeac",
   "metadata": {
    "tags": []
   },
   "outputs": [],
   "source": [
    "import scipy.stats as stats"
   ]
  },
  {
   "cell_type": "code",
   "execution_count": 4,
   "id": "44a200a3-01cb-4ae7-8369-8ed0f7f41e3d",
   "metadata": {
    "tags": []
   },
   "outputs": [
    {
     "data": {
      "text/plain": [
       "DescribeResult(nobs=50, minmax=(17, 251), mean=154.38, variance=2578.0363265306123, skewness=-0.32398897278694483, kurtosis=-0.05849823498415985)"
      ]
     },
     "execution_count": 4,
     "metadata": {},
     "output_type": "execute_result"
    }
   ],
   "source": [
    "stats.describe(olcumler)"
   ]
  },
  {
   "cell_type": "code",
   "execution_count": null,
   "id": "fa00c998-1728-400f-b97c-7b517eb47d32",
   "metadata": {},
   "outputs": [],
   "source": []
  }
 ],
 "metadata": {
  "kernelspec": {
   "display_name": "Python 3 (ipykernel)",
   "language": "python",
   "name": "python3"
  },
  "language_info": {
   "codemirror_mode": {
    "name": "ipython",
    "version": 3
   },
   "file_extension": ".py",
   "mimetype": "text/x-python",
   "name": "python",
   "nbconvert_exporter": "python",
   "pygments_lexer": "ipython3",
   "version": "3.11.4"
  }
 },
 "nbformat": 4,
 "nbformat_minor": 5
}
