{
 "cells": [
  {
   "cell_type": "code",
   "execution_count": 4,
   "id": "5be1e0d8-47c8-4377-947b-37c3b1f1eca3",
   "metadata": {
    "tags": []
   },
   "outputs": [
    {
     "name": "stdout",
     "output_type": "stream",
     "text": [
      "Test Istatistigi = 0.8978, p-degeri = 0.0000\n",
      "Test Istatistigi = 0.9136, p-degeri = 0.0000\n"
     ]
    }
   ],
   "source": [
    "import seaborn as sns\n",
    "tips = sns.load_dataset('tips')\n",
    "df = tips.copy()\n",
    "\n",
    "df['total_bill'] = df['total_bill'] - df['tip']\n",
    "\n",
    "from scipy.stats import shapiro\n",
    "test_istatistigi, pvalue = shapiro(df['tip'])\n",
    "print('Test Istatistigi = %.4f, p-degeri = %.4f' % (test_istatistigi, pvalue))\n",
    "\n",
    "test_istatistigi, pvalue = shapiro(df['total_bill'])\n",
    "print('Test Istatistigi = %.4f, p-degeri = %.4f' % (test_istatistigi, pvalue))"
   ]
  },
  {
   "cell_type": "code",
   "execution_count": 5,
   "id": "d04ce6d4-bf95-4e30-b36b-9502b7a06870",
   "metadata": {
    "tags": []
   },
   "outputs": [
    {
     "data": {
      "text/plain": [
       "0.5766634471096378"
      ]
     },
     "execution_count": 5,
     "metadata": {},
     "output_type": "execute_result"
    }
   ],
   "source": [
    "df['tip'].corr(df['total_bill'])"
   ]
  },
  {
   "cell_type": "code",
   "execution_count": 6,
   "id": "2bc970e0-01c7-4220-a5ea-c814d953f25e",
   "metadata": {
    "tags": []
   },
   "outputs": [
    {
     "data": {
      "text/plain": [
       "0.593691939408997"
      ]
     },
     "execution_count": 6,
     "metadata": {},
     "output_type": "execute_result"
    }
   ],
   "source": [
    "df['tip'].corr(df['total_bill'], method = 'spearman')"
   ]
  },
  {
   "cell_type": "code",
   "execution_count": 7,
   "id": "86676782-7c09-453b-8902-5dbeb437b4f7",
   "metadata": {
    "tags": []
   },
   "outputs": [],
   "source": [
    "from scipy.stats import pearsonr"
   ]
  },
  {
   "cell_type": "code",
   "execution_count": 9,
   "id": "071ff82c-607f-4570-a9cc-f7920dd0a3c3",
   "metadata": {
    "tags": []
   },
   "outputs": [
    {
     "name": "stdout",
     "output_type": "stream",
     "text": [
      "Test Istatistigi = 0.5767, p-degeri = 0.0000\n"
     ]
    }
   ],
   "source": [
    "test_istatistigi, pvalue = pearsonr(df['tip'], df['total_bill'])\n",
    "print('Test Istatistigi = %.4f, p-degeri = %.4f' % (test_istatistigi, pvalue))"
   ]
  },
  {
   "cell_type": "code",
   "execution_count": null,
   "id": "ecf65b89-55e7-4d54-9c63-e0dd291855bf",
   "metadata": {},
   "outputs": [],
   "source": []
  }
 ],
 "metadata": {
  "kernelspec": {
   "display_name": "Python 3 (ipykernel)",
   "language": "python",
   "name": "python3"
  },
  "language_info": {
   "codemirror_mode": {
    "name": "ipython",
    "version": 3
   },
   "file_extension": ".py",
   "mimetype": "text/x-python",
   "name": "python",
   "nbconvert_exporter": "python",
   "pygments_lexer": "ipython3",
   "version": "3.11.4"
  }
 },
 "nbformat": 4,
 "nbformat_minor": 5
}
