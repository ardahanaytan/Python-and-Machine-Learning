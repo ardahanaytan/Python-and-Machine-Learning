{
 "cells": [
  {
   "cell_type": "code",
   "execution_count": 1,
   "id": "273e2ca4-3e9c-4adf-8c53-f8b816f3cf6e",
   "metadata": {
    "tags": []
   },
   "outputs": [
    {
     "name": "stdout",
     "output_type": "stream",
     "text": [
      "   survived  pclass   age  sibsp  parch     fare\n",
      "0         0       3  22.0      1      0   7.2500\n",
      "1         1       1  38.0      1      0  71.2833\n",
      "2         1       3  26.0      0      0   7.9250\n",
      "3         1       1  35.0      1      0  53.1000\n",
      "4         0       3  35.0      0      0   8.0500\n"
     ]
    },
    {
     "data": {
      "text/plain": [
       "survived      0\n",
       "pclass        0\n",
       "age         177\n",
       "sibsp         0\n",
       "parch         0\n",
       "fare          0\n",
       "dtype: int64"
      ]
     },
     "execution_count": 1,
     "metadata": {},
     "output_type": "execute_result"
    }
   ],
   "source": [
    "import seaborn as sns\n",
    "import missingno as msno\n",
    "df = sns.load_dataset('titanic')\n",
    "df = df.select_dtypes(include = ['float64','int64'])\n",
    "print(df.head())\n",
    "df.isnull().sum()"
   ]
  },
  {
   "cell_type": "code",
   "execution_count": 2,
   "id": "845d5aad-1af3-4966-98de-1fef5316e9e8",
   "metadata": {
    "tags": []
   },
   "outputs": [
    {
     "name": "stdout",
     "output_type": "stream",
     "text": [
      "Collecting ycimpute\n",
      "  Obtaining dependency information for ycimpute from https://files.pythonhosted.org/packages/64/7b/e36e4600f76448552084c021f93031f7926072fa1c672753e06b044aedee/ycimpute-0.2-py3-none-any.whl.metadata\n",
      "  Downloading ycimpute-0.2-py3-none-any.whl.metadata (775 bytes)\n",
      "Requirement already satisfied: six in /Users/ardahanaytan/anaconda3/lib/python3.11/site-packages (from ycimpute) (1.16.0)\n",
      "Requirement already satisfied: numpy>=1.10 in /Users/ardahanaytan/anaconda3/lib/python3.11/site-packages (from ycimpute) (1.24.3)\n",
      "Requirement already satisfied: scipy in /Users/ardahanaytan/anaconda3/lib/python3.11/site-packages (from ycimpute) (1.10.1)\n",
      "Requirement already satisfied: scikit-learn>=0.17.1 in /Users/ardahanaytan/anaconda3/lib/python3.11/site-packages (from ycimpute) (1.3.0)\n",
      "Requirement already satisfied: torch>=1.1.0 in /Users/ardahanaytan/anaconda3/lib/python3.11/site-packages (from ycimpute) (2.0.1)\n",
      "Requirement already satisfied: joblib>=1.1.1 in /Users/ardahanaytan/anaconda3/lib/python3.11/site-packages (from scikit-learn>=0.17.1->ycimpute) (1.2.0)\n",
      "Requirement already satisfied: threadpoolctl>=2.0.0 in /Users/ardahanaytan/anaconda3/lib/python3.11/site-packages (from scikit-learn>=0.17.1->ycimpute) (2.2.0)\n",
      "Requirement already satisfied: filelock in /Users/ardahanaytan/anaconda3/lib/python3.11/site-packages (from torch>=1.1.0->ycimpute) (3.9.0)\n",
      "Requirement already satisfied: typing-extensions in /Users/ardahanaytan/anaconda3/lib/python3.11/site-packages (from torch>=1.1.0->ycimpute) (4.7.1)\n",
      "Requirement already satisfied: sympy in /Users/ardahanaytan/anaconda3/lib/python3.11/site-packages (from torch>=1.1.0->ycimpute) (1.11.1)\n",
      "Requirement already satisfied: networkx in /Users/ardahanaytan/anaconda3/lib/python3.11/site-packages (from torch>=1.1.0->ycimpute) (3.1)\n",
      "Requirement already satisfied: jinja2 in /Users/ardahanaytan/anaconda3/lib/python3.11/site-packages (from torch>=1.1.0->ycimpute) (3.1.2)\n",
      "Requirement already satisfied: MarkupSafe>=2.0 in /Users/ardahanaytan/anaconda3/lib/python3.11/site-packages (from jinja2->torch>=1.1.0->ycimpute) (2.1.1)\n",
      "Requirement already satisfied: mpmath>=0.19 in /Users/ardahanaytan/anaconda3/lib/python3.11/site-packages (from sympy->torch>=1.1.0->ycimpute) (1.3.0)\n",
      "Downloading ycimpute-0.2-py3-none-any.whl (35 kB)\n",
      "Installing collected packages: ycimpute\n",
      "Successfully installed ycimpute-0.2\n"
     ]
    }
   ],
   "source": [
    "!pip install ycimpute"
   ]
  },
  {
   "cell_type": "code",
   "execution_count": 3,
   "id": "485e1c40-1b9c-4f68-bd4e-e86dcd23f148",
   "metadata": {
    "tags": []
   },
   "outputs": [],
   "source": [
    "from ycimpute.imputer import knnimput"
   ]
  },
  {
   "cell_type": "code",
   "execution_count": 4,
   "id": "d5251ee6-a714-4b96-b8de-68ed223936f4",
   "metadata": {
    "tags": []
   },
   "outputs": [],
   "source": [
    "var_names = list(df)"
   ]
  },
  {
   "cell_type": "code",
   "execution_count": 5,
   "id": "11aa3fec-46b0-41d6-8e4e-57d90acf0a9d",
   "metadata": {
    "tags": []
   },
   "outputs": [],
   "source": [
    "import numpy as np\n",
    "n_df = np.array(df)"
   ]
  },
  {
   "cell_type": "code",
   "execution_count": 6,
   "id": "5536f254-faec-4ece-8672-9854235a3229",
   "metadata": {
    "tags": []
   },
   "outputs": [
    {
     "data": {
      "text/plain": [
       "array([[ 0.    ,  3.    , 22.    ,  1.    ,  0.    ,  7.25  ],\n",
       "       [ 1.    ,  1.    , 38.    ,  1.    ,  0.    , 71.2833],\n",
       "       [ 1.    ,  3.    , 26.    ,  0.    ,  0.    ,  7.925 ],\n",
       "       [ 1.    ,  1.    , 35.    ,  1.    ,  0.    , 53.1   ],\n",
       "       [ 0.    ,  3.    , 35.    ,  0.    ,  0.    ,  8.05  ],\n",
       "       [ 0.    ,  3.    ,     nan,  0.    ,  0.    ,  8.4583],\n",
       "       [ 0.    ,  1.    , 54.    ,  0.    ,  0.    , 51.8625],\n",
       "       [ 0.    ,  3.    ,  2.    ,  3.    ,  1.    , 21.075 ],\n",
       "       [ 1.    ,  3.    , 27.    ,  0.    ,  2.    , 11.1333],\n",
       "       [ 1.    ,  2.    , 14.    ,  1.    ,  0.    , 30.0708]])"
      ]
     },
     "execution_count": 6,
     "metadata": {},
     "output_type": "execute_result"
    }
   ],
   "source": [
    "n_df[0:10]"
   ]
  },
  {
   "cell_type": "code",
   "execution_count": 7,
   "id": "1fee20df-a229-4486-a134-97fef97f21c7",
   "metadata": {
    "tags": []
   },
   "outputs": [
    {
     "name": "stdout",
     "output_type": "stream",
     "text": [
      "Imputing row 1/891 with 0 missing, elapsed time: 0.090\n",
      "Imputing row 101/891 with 0 missing, elapsed time: 0.091\n",
      "Imputing row 201/891 with 0 missing, elapsed time: 0.091\n",
      "Imputing row 301/891 with 1 missing, elapsed time: 0.091\n",
      "Imputing row 401/891 with 0 missing, elapsed time: 0.091\n",
      "Imputing row 501/891 with 0 missing, elapsed time: 0.092\n",
      "Imputing row 601/891 with 0 missing, elapsed time: 0.092\n",
      "Imputing row 701/891 with 0 missing, elapsed time: 0.092\n",
      "Imputing row 801/891 with 0 missing, elapsed time: 0.092\n"
     ]
    }
   ],
   "source": [
    "dff = knnimput.KNN(k = 4).complete(n_df)"
   ]
  },
  {
   "cell_type": "code",
   "execution_count": 10,
   "id": "98993f23-921d-496b-b3c4-5daca6f16a75",
   "metadata": {
    "tags": []
   },
   "outputs": [
    {
     "data": {
      "text/html": [
       "<div>\n",
       "<style scoped>\n",
       "    .dataframe tbody tr th:only-of-type {\n",
       "        vertical-align: middle;\n",
       "    }\n",
       "\n",
       "    .dataframe tbody tr th {\n",
       "        vertical-align: top;\n",
       "    }\n",
       "\n",
       "    .dataframe thead th {\n",
       "        text-align: right;\n",
       "    }\n",
       "</style>\n",
       "<table border=\"1\" class=\"dataframe\">\n",
       "  <thead>\n",
       "    <tr style=\"text-align: right;\">\n",
       "      <th></th>\n",
       "      <th>survived</th>\n",
       "      <th>pclass</th>\n",
       "      <th>age</th>\n",
       "      <th>sibsp</th>\n",
       "      <th>parch</th>\n",
       "      <th>fare</th>\n",
       "    </tr>\n",
       "  </thead>\n",
       "  <tbody>\n",
       "    <tr>\n",
       "      <th>0</th>\n",
       "      <td>0.0</td>\n",
       "      <td>3.0</td>\n",
       "      <td>22.0</td>\n",
       "      <td>1.0</td>\n",
       "      <td>0.0</td>\n",
       "      <td>7.2500</td>\n",
       "    </tr>\n",
       "    <tr>\n",
       "      <th>1</th>\n",
       "      <td>1.0</td>\n",
       "      <td>1.0</td>\n",
       "      <td>38.0</td>\n",
       "      <td>1.0</td>\n",
       "      <td>0.0</td>\n",
       "      <td>71.2833</td>\n",
       "    </tr>\n",
       "    <tr>\n",
       "      <th>2</th>\n",
       "      <td>1.0</td>\n",
       "      <td>3.0</td>\n",
       "      <td>26.0</td>\n",
       "      <td>0.0</td>\n",
       "      <td>0.0</td>\n",
       "      <td>7.9250</td>\n",
       "    </tr>\n",
       "    <tr>\n",
       "      <th>3</th>\n",
       "      <td>1.0</td>\n",
       "      <td>1.0</td>\n",
       "      <td>35.0</td>\n",
       "      <td>1.0</td>\n",
       "      <td>0.0</td>\n",
       "      <td>53.1000</td>\n",
       "    </tr>\n",
       "    <tr>\n",
       "      <th>4</th>\n",
       "      <td>0.0</td>\n",
       "      <td>3.0</td>\n",
       "      <td>35.0</td>\n",
       "      <td>0.0</td>\n",
       "      <td>0.0</td>\n",
       "      <td>8.0500</td>\n",
       "    </tr>\n",
       "  </tbody>\n",
       "</table>\n",
       "</div>"
      ],
      "text/plain": [
       "   survived  pclass   age  sibsp  parch     fare\n",
       "0       0.0     3.0  22.0    1.0    0.0   7.2500\n",
       "1       1.0     1.0  38.0    1.0    0.0  71.2833\n",
       "2       1.0     3.0  26.0    0.0    0.0   7.9250\n",
       "3       1.0     1.0  35.0    1.0    0.0  53.1000\n",
       "4       0.0     3.0  35.0    0.0    0.0   8.0500"
      ]
     },
     "execution_count": 10,
     "metadata": {},
     "output_type": "execute_result"
    }
   ],
   "source": [
    "import pandas as pd\n",
    "dff = pd.DataFrame(dff, columns = var_names)\n",
    "dff.head()"
   ]
  },
  {
   "cell_type": "code",
   "execution_count": 12,
   "id": "fc14c612-8721-4524-b545-3decb093ef14",
   "metadata": {
    "tags": []
   },
   "outputs": [
    {
     "data": {
      "text/plain": [
       "survived    0\n",
       "pclass      0\n",
       "age         0\n",
       "sibsp       0\n",
       "parch       0\n",
       "fare        0\n",
       "dtype: int64"
      ]
     },
     "execution_count": 12,
     "metadata": {},
     "output_type": "execute_result"
    }
   ],
   "source": [
    "dff.isnull().sum()"
   ]
  },
  {
   "cell_type": "code",
   "execution_count": 18,
   "id": "eac517ce-2e30-4cae-b4d0-a5c54e685a7b",
   "metadata": {
    "tags": []
   },
   "outputs": [],
   "source": [
    "import seaborn as sns\n",
    "import missingno as msno\n",
    "df = sns.load_dataset('titanic')\n",
    "df = df.select_dtypes(include = ['float64','int64'])\n",
    "\n",
    "from ycimpute.imputer import EM"
   ]
  },
  {
   "cell_type": "code",
   "execution_count": 19,
   "id": "bebd2669-1ef0-4e7a-9cc5-546cf7f8d1dc",
   "metadata": {
    "tags": []
   },
   "outputs": [],
   "source": [
    "var_names = list(df)"
   ]
  },
  {
   "cell_type": "code",
   "execution_count": 20,
   "id": "81f72d8a-f92d-46e7-bf09-4d3da3029a8f",
   "metadata": {
    "tags": []
   },
   "outputs": [],
   "source": [
    "n_df = np.array(df)"
   ]
  },
  {
   "cell_type": "code",
   "execution_count": 21,
   "id": "3d88b8e7-9265-41bc-af3c-2782ea68d780",
   "metadata": {
    "tags": []
   },
   "outputs": [],
   "source": [
    "dff = EM().complete(n_df)"
   ]
  },
  {
   "cell_type": "code",
   "execution_count": 22,
   "id": "7f9f6e9d-263a-4676-93cf-3f5386430c01",
   "metadata": {
    "tags": []
   },
   "outputs": [],
   "source": [
    "dff = pd.DataFrame(dff, columns = var_names)"
   ]
  },
  {
   "cell_type": "code",
   "execution_count": 23,
   "id": "1847fc84-6430-4cc8-a8ae-ac6347ad48b5",
   "metadata": {
    "tags": []
   },
   "outputs": [
    {
     "data": {
      "text/plain": [
       "survived    0\n",
       "pclass      0\n",
       "age         0\n",
       "sibsp       0\n",
       "parch       0\n",
       "fare        0\n",
       "dtype: int64"
      ]
     },
     "execution_count": 23,
     "metadata": {},
     "output_type": "execute_result"
    }
   ],
   "source": [
    "dff.isnull().sum()"
   ]
  },
  {
   "cell_type": "code",
   "execution_count": null,
   "id": "93f7cd11-e62f-4f21-b6fa-80ecd2d48ed0",
   "metadata": {},
   "outputs": [],
   "source": []
  }
 ],
 "metadata": {
  "kernelspec": {
   "display_name": "Python 3 (ipykernel)",
   "language": "python",
   "name": "python3"
  },
  "language_info": {
   "codemirror_mode": {
    "name": "ipython",
    "version": 3
   },
   "file_extension": ".py",
   "mimetype": "text/x-python",
   "name": "python",
   "nbconvert_exporter": "python",
   "pygments_lexer": "ipython3",
   "version": "3.11.4"
  }
 },
 "nbformat": 4,
 "nbformat_minor": 5
}
